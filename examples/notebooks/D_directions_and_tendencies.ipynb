{
 "cells": [
  {
   "cell_type": "code",
   "execution_count": null,
   "id": "dada5bfeacb5af08",
   "metadata": {},
   "outputs": [],
   "source": [
    "import os\n",
    "\n",
    "import matplotlib.pyplot as plt\n",
    "import numpy as np\n",
    "import pyvista as pv\n",
    "\n",
    "import fem2geo\n",
    "from fem2geo import model_handler as mh\n",
    "from fem2geo import tensor_methods as tm\n",
    "from fem2geo import transform_funcs as tr"
   ]
  },
  {
   "cell_type": "code",
   "execution_count": null,
   "outputs": [],
   "source": [
    "\n",
    "# Select file path\n",
    "example_dir = fem2geo.dir_testdata  # examples folder of the fem2geo package\n",
    "filename = os.path.join(example_dir, 'cavity_model.vtk')\n",
    "\n",
    "# Read File with Pyvista\n",
    "full_model = pv.read(filename)\n",
    "\n",
    "# Select coordinates of circle center and radius\n",
    "center = (24.75, 28.5, -7.3)  # dilation roughly between fault and chamber\n",
    "radius = 1\n",
    "\n",
    "# Get sub_model\n",
    "sub_model = mh.get_submodel_sphere(full_model, center, radius)\n",
    "\n",
    "# Save sub_model for visualization as vtu\n",
    "short_filename = os.path.join(example_dir, 'dilation_zone.vtu')\n",
    "sub_model.save(short_filename)  # To visualize in paraview"
   ],
   "metadata": {
    "collapsed": false
   },
   "id": "541aca28b6d63acc"
  },
  {
   "cell_type": "code",
   "execution_count": null,
   "outputs": [],
   "source": [
    "\n",
    "# The sub-model can be read directly\n",
    "sub_model = pv.read(short_filename)\n",
    "\n",
    "# Get sub_model principal direction, and transform to spherical coords\n",
    "s1 = [tr.line_enu2sphe(i) for i in sub_model.cell_data['dir_DevStress_1']]\n",
    "s2 = [tr.line_enu2sphe(i) for i in sub_model.cell_data['dir_DevStress_2']]\n",
    "s3 = [tr.line_enu2sphe(i) for i in sub_model.cell_data['dir_DevStress_3']]\n",
    "\n",
    "# Get average stress of the cells\n",
    "avg_stress = mh.get_stress_weightedavg(sub_model)\n",
    "\n",
    "# Get principal directions\n",
    "val, vec = np.linalg.eig(avg_stress)\n",
    "\n",
    "# Sort by maximum compressive\n",
    "vec = vec[:, np.argsort(val)]\n",
    "val = np.sort(val)\n",
    "\n",
    "s1_avg = tr.line_enu2sphe(vec[:, 0].T)\n",
    "s2_avg = tr.line_enu2sphe(vec[:, 1].T)\n",
    "s3_avg = tr.line_enu2sphe(vec[:, 2].T)"
   ],
   "metadata": {
    "collapsed": false
   },
   "id": "6d511a80419e3351"
  },
  {
   "cell_type": "code",
   "execution_count": null,
   "outputs": [],
   "source": [
    "# Get Dilation tendency\n",
    "plt.close('all')\n",
    "fig, ax, D, planes = tm.plot_dilation_tendency(avg_stress)\n",
    "ax.grid()\n",
    "\n",
    "# Plot the stress directions of all elements within sub-model selection\n",
    "for n, i in enumerate(zip(s1, s2, s3)):\n",
    "    mylabel = [None, None, None]\n",
    "    if n == 0:\n",
    "        mylabel = [r'$\\sigma_1$', r'$\\sigma_2$', r'$\\sigma_3$']\n",
    "    ax.line(i[0][0], i[0][1], c='r', marker='o', markeredgecolor='k', label=mylabel[0])\n",
    "    ax.line(i[1][0], i[1][1], c='g', marker='s', markeredgecolor='k', label=mylabel[1])\n",
    "    ax.line(i[2][0], i[2][1], c='b', marker='v', markeredgecolor='k', label=mylabel[2])\n",
    "\n",
    "ax.line(s1_avg[0], s1_avg[1], c='w', marker='o',\n",
    "        markeredgecolor='k', markersize=8, label=r'Average $\\sigma_1$')\n",
    "ax.line(s2_avg[0], s2_avg[1], c='w', marker='s',\n",
    "        markeredgecolor='k', markersize=8, label=r'Average $\\sigma_2$')\n",
    "ax.line(s3_avg[0], s3_avg[1], c='w', marker='v',\n",
    "        markeredgecolor='k', markersize=8, label=r'Average $\\sigma_3$')\n",
    "ax.legend()\n",
    "\n",
    "ax.set_title('Dilation tendency plot \\n' +\n",
    "             '$\\sigma_1=%.3f$, $\\sigma_3=%.3f$, $\\phi=%.2f$' %\n",
    "             (val[0], val[2], (val[1] - val[2]) / (val[0] - val[2])), y=1.05)\n",
    "\n",
    "plt.show()"
   ],
   "metadata": {
    "collapsed": false,
    "is_executing": true
   },
   "id": "9a29c2a5"
  }
 ],
 "metadata": {},
 "nbformat": 4,
 "nbformat_minor": 5
}
