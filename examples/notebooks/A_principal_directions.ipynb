{
 "cells": [
  {
   "cell_type": "code",
   "execution_count": null,
   "id": "358a886a",
   "metadata": {},
   "outputs": [],
   "source": [
    "import os\n",
    "import numpy as np\n",
    "import matplotlib.pyplot as plt\n",
    "import pyvista as pv\n",
    "\n",
    "import fem2geo\n",
    "from fem2geo import transform_funcs as tr\n",
    "from fem2geo import model_handler"
   ]
  },
  {
   "cell_type": "markdown",
   "source": [
    "\n",
    " ## This example illustrates the following\n",
    "   1. Read a .vtk file corresponding the results of an ADELI\n",
    "      (https://code.google.com/archive/p/adeli/)-FEM model\n",
    "   2. Extract a subset of elements within a centered sphere of radios R.\n",
    "   3. Plot the principal stress directions for all elements within the sphere"
   ],
   "metadata": {
    "collapsed": false
   },
   "id": "a6cb389c443640ff"
  },
  {
   "cell_type": "markdown",
   "id": "2ff46b5d",
   "metadata": {},
   "source": [
    "# Get Data"
   ]
  },
  {
   "cell_type": "code",
   "execution_count": null,
   "id": "95bb53e3",
   "metadata": {},
   "outputs": [],
   "source": [
    "# Select file path\n",
    "example_dir = fem2geo.dir_testdata  # examples folder of the fem2geo package\n",
    "filename = os.path.join(example_dir, 'small_box.vtk')\n",
    "\n",
    "# Read File with Pyvista\n",
    "full_model = pv.read(filename)"
   ]
  },
  {
   "cell_type": "markdown",
   "id": "a15502d8",
   "metadata": {},
   "source": [
    "## Extract sub-model from original model"
   ]
  },
  {
   "cell_type": "code",
   "execution_count": null,
   "outputs": [],
   "source": [
    "# Select a sphere within the model (instead of a point) to smooth fluctuations.\n",
    "# Coordinates of sphere center and radius\n",
    "center = (22, 22, -7)\n",
    "radius = 0.8\n",
    "\n",
    "# Get Sub-model\n",
    "sub_model = model_handler.get_submodel_sphere(full_model, center, radius)\n",
    "\n",
    "# Save sub_model for visualization as vtu\n",
    "sub_model.save(os.path.join(example_dir, 'ex1_circle.vtu'))   # <<<<<<<< Visualize in Paraview"
   ],
   "metadata": {
    "collapsed": false
   },
   "id": "fe8bf12ecbcb4025"
  },
  {
   "cell_type": "markdown",
   "source": [
    "## Process data"
   ],
   "metadata": {
    "collapsed": false
   },
   "id": "2bfd79cde05cdb93"
  },
  {
   "cell_type": "code",
   "execution_count": null,
   "outputs": [],
   "source": [
    "# Get sub_model Sigma1 direction\n",
    "print('Present cell variables in the model')\n",
    "print(sub_model.cell_data.keys())\n",
    "\n",
    "# We select dir_DevStress_1 and dir_DevStress_3 as variables.\n",
    "s1 = sub_model.cell_data['dir_DevStress_1']\n",
    "s3 = sub_model.cell_data['dir_DevStress_3']\n",
    "\n",
    "# We iterate over all elements and get the spherical coordinates of Sigma_1\n",
    "s1_spherical = []\n",
    "for i in s1:\n",
    "    # force s1 direction to point always upwards, to avoid azimuthal ambiguity\n",
    "    s1_up = i*np.sign(i[2])\n",
    "    # Convert ENU cartesian coordinates to spherical (plunge/azimuth)\n",
    "    s1_i = tr.line_enu2sphe(s1_up)\n",
    "    # Save into the list\n",
    "    s1_spherical.append(s1_i)\n",
    "\n",
    "# Same for Sigma_3\n",
    "s3_spherical = []\n",
    "for i in s3:\n",
    "    s3_up = i*np.sign(i[2])\n",
    "    s3_i = tr.line_enu2sphe(s3_up)\n",
    "    s3_spherical.append(s3_i)\n"
   ],
   "metadata": {
    "collapsed": false
   },
   "id": "f7129bda"
  },
  {
   "cell_type": "markdown",
   "id": "a53d6497",
   "metadata": {},
   "source": [
    "# Plot Data"
   ]
  },
  {
   "cell_type": "code",
   "execution_count": null,
   "id": "703e988a",
   "metadata": {
    "is_executing": true
   },
   "outputs": [],
   "source": [
    "\n",
    "# Standard stereo-plot initialization using the library mplstereonet\n",
    "plt.close('all')\n",
    "fig = plt.figure(figsize=(8,8))\n",
    "ax = fig.add_subplot(111, projection='stereonet')\n",
    "\n",
    "# add grid\n",
    "ax.grid()\n",
    "\n",
    "# Plot each Sigma_1 direction\n",
    "for n, i in enumerate(s1_spherical):\n",
    "    mylabel = None\n",
    "    if n==0:\n",
    "        mylabel = r'$\\sigma_1$ orientation'\n",
    "    ax.line(i[0], i[1], c='r', marker='o', markeredgecolor='k', label=mylabel)\n",
    "\n",
    "# Plot each Sigma_3 direction\n",
    "for n, i in enumerate(s3_spherical):\n",
    "    mylabel = None\n",
    "    if n==0:\n",
    "        mylabel = r'$\\sigma_3$ orientation'\n",
    "    ax.line(i[0],i[1] , c='b', marker='o', markeredgecolor='k', label=mylabel)\n",
    "\n",
    "# Show plots\n",
    "ax.legend()\n",
    "ax.set_title('Stereoplot of $\\sigma_1$ and $\\sigma_3$ \\n' +\n",
    "             'n of elements: %i' % sub_model.number_of_cells, y=1.08)\n",
    "plt.show()\n"
   ]
  }
 ],
 "metadata": {},
 "nbformat": 4,
 "nbformat_minor": 5
}
